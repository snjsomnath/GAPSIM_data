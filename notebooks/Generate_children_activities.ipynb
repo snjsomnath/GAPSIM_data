{
 "cells": [
  {
   "attachments": {
    "image-2.png": {
     "image/png": "[encoded data removed]"
    }
   },
   "cell_type": "markdown",
   "metadata": {},
   "source": [
    "## Assumptions:\n",
    "\n",
    "1\\. The JSON file `models/CHILDREN_ACTIVITY.json` is structured with relevant fields like `activities`, `mandatory_activity`, `after_school`, etc.\n",
    "\n",
    "2\\. Children aged 5 or below are always dropped off by a parent.\n",
    "\n",
    "3\\. The method for calculating the mode of transport (either \"linear\" or \"exponential\") is determined by the user and defaults to \"linear\" if not specified.\n",
    "\n",
    "4\\. For children aged between 1 and 5, there's a 20% chance they'll attend \"Fritidshem\", and if they do, they will always be there until 4 PM (16:00).\n",
    "\n",
    "5\\. Time calculations assume that a day is within a 24-hour window and does not account for activities stretching over to the next day.\n",
    "\n",
    "\n",
    "\n",
    "\n",
    "## Logic:\n",
    "\n",
    "### Initialization:\n",
    "\n",
    "- The JSON file containing activity data is loaded.\n",
    "\n",
    "- Some utility functions are defined for time conversions, choosing transport, and other key tasks.\n",
    "\n",
    "### Choosing Mode of Transport:\n",
    "\n",
    "- For children aged 5 or below, the mode of transport is always \"parent\".\n",
    "\n",
    "- For older children, a probability-based method (`linear` or `exponential`) is used to determine if they are dropped off by parents or use public transport.\n",
    "\n",
    "### Identifying Age Group:\n",
    "\n",
    "- The child's age is used to identify the relevant age group from the JSON data, which will determine the possible activities.\n",
    "\n",
    "### Mandatory Activity Selection:\n",
    "\n",
    "1\\. The code fetches all possible \"mandatory\" activities for the age group.\n",
    "\n",
    "2\\. One activity is randomly selected based on its probability weight.\n",
    "\n",
    "3\\. A random start time for this activity is chosen within the allowed time range.\n",
    "\n",
    "4\\. The end time for the activity is then calculated based on its duration.\n",
    "\n",
    "### Handling Fritidshem:\n",
    "\n",
    "1\\. If the child is between ages 1 to 5, there's a 20% chance they'll attend \"Fritidshem\".\n",
    "\n",
    "2\\. If they do attend, an entry is made at 6:30 AM (assuming they start early) and another one at the time when the mandatory activity begins.\n",
    "\n",
    "3\\. The end time is set to 4 PM (16:00) if the child attends \"Fritidshem\".\n",
    "\n",
    "### After School Activities:\n",
    "\n",
    "1\\. From the possible \"after-school\" activities for the age group, one activity is randomly chosen.\n",
    "\n",
    "2\\. A random duration for this activity is picked within the allowed range (base duration ± variance).\n",
    "\n",
    "3\\. The activity's start time is the end time of the previous activity, and its end time is then calculated.\n",
    "\n",
    "### Finalizing the Profile:\n",
    "\n",
    "1\\. All the activities selected (mandatory, possible \"Fritidshem\", and after-school) are assembled in sequence.\n",
    "\n",
    "2\\. A final entry is made for the child going home, with the mode of transport and the end time from the last activity.\n",
    "\n",
    "At the end of the process, the data is converted into a Pandas DataFrame for presentation.\n",
    "\n",
    "## Activity based of NHTS\n",
    "![image-2.png](attachment:image-2.png)"
   ]
  },
  {
   "cell_type": "markdown",
   "metadata": {},
   "source": [
    "### Linear Model:\n",
    "\n",
    "The linear model suggests a straight-line decrease in the probability of a parent dropping off their child as the child's age increases.\n",
    "\n",
    "For this model, the probability is given by: Probability (Parent drop-off)=1-0.06×ageProbability (Parent drop-off)=1-0.06×age\n",
    "\n",
    "Where the factor 0.060.06 determines the slope of the decrease. The idea is straightforward: for each year increase in age, the probability of a parent dropping off decreases by 6%.\n",
    "\n",
    "For example:\n",
    "\n",
    "-   At age 6, the probability is 1-0.06×6=0.641-0.06×6=0.64 or 64%.\n",
    "-   At age 10, the probability is 1-0.06×10=0.41-0.06×10=0.4 or 40%.\n",
    "\n",
    "### Exponential Model:\n",
    "\n",
    "The exponential model suggests a more rapid decrease in the beginning which slows down as the age increases.\n",
    "\n",
    "The probability in this model is given by: Probability (Parent drop-off)=exp⁡(-0.2×age)Probability (Parent drop-off)=exp(-0.2×age)\n",
    "\n",
    "Where exp⁡()exp() is the exponential function. The factor 0.20.2 determines the rate of the decrease.\n",
    "\n",
    "For example:\n",
    "\n",
    "-   At age 6, the probability is roughly exp⁡(-0.2×6)≈0.55exp(-0.2×6)≈0.55 or 55%.\n",
    "-   At age 10, the probability is roughly exp⁡(-0.2×10)≈0.37exp(-0.2×10)≈0.37 or 37%.\n",
    "\n",
    "The exponential model suggests that younger children rapidly become more independent, but this rate of increased independence slows as they grow older.\n",
    "\n",
    "### Comparison:\n",
    "\n",
    "-   Linear Model: Uniform decline in parental drop-off probability as age increases.\n",
    "-   Exponential Model: Rapid decline in the beginning, which slows down over time.\n",
    "\n",
    "Both models capture different philosophical views on how children grow in independence over time. The choice between the models would depend on the observed data or beliefs about children's independence growth pattern"
   ]
  },
  {
   "cell_type": "markdown",
   "metadata": {},
   "source": [
    "![Alt text](image-2.png)"
   ]
  },
  {
   "cell_type": "code",
   "execution_count": 5,
   "metadata": {},
   "outputs": [],
   "source": [
    "import sys\n",
    "sys.path.append(\"..\") \n",
    "from tripsender import sequencer_c as sc\n",
    "import json\n",
    "import random"
   ]
  },
  {
   "cell_type": "code",
   "execution_count": 10,
   "metadata": {},
   "outputs": [],
   "source": [
    "# Load children_activity.json with swedish characters as data\n",
    "with open('../models/CHILDREN_ACTIVITY.json', encoding='utf-8') as f:\n",
    "    data = json.load(f)"
   ]
  },
  {
   "cell_type": "code",
   "execution_count": 27,
   "metadata": {},
   "outputs": [
    {
     "data": {
      "text/plain": [
       "03:00 - HOME (408 mins)\n",
       "09:48 - TRAVEL (12 mins)\n",
       "10:00 - EDUCATION_förskola (180 mins)\n",
       "12:51 - TRAVEL (9 mins)\n",
       "13:00 - LEISURE_playground (73 mins)\n",
       "14:13 - TRAVEL (16 mins)\n",
       "14:29 - HOME (751 mins)"
      ]
     },
     "execution_count": 27,
     "metadata": {},
     "output_type": "execute_result"
    }
   ],
   "source": [
    "age = random.randint(1,17)\n",
    "activity_sequences = sc.generate_child_activity_sequence(age,data,mode_method=\"linear\")\n",
    "activity_sequences"
   ]
  }
 ],
 "metadata": {
  "kernelspec": {
   "display_name": "OSMnx",
   "language": "python",
   "name": "python3"
  },
  "language_info": {
   "codemirror_mode": {
    "name": "ipython",
    "version": 3
   },
   "file_extension": ".py",
   "mimetype": "text/x-python",
   "name": "python",
   "nbconvert_exporter": "python",
   "pygments_lexer": "ipython3",
   "version": "3.8.17"
  },
  "orig_nbformat": 4
 },
 "nbformat": 4,
 "nbformat_minor": 2
}
